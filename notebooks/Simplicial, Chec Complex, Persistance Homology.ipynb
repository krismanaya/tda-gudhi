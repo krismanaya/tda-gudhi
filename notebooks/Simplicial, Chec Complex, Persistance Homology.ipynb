{
 "cells": [
  {
   "cell_type": "code",
   "execution_count": 1,
   "metadata": {},
   "outputs": [],
   "source": [
    "import dionysus as d\n",
    "import numpy as np\n",
    "from pprint import pprint"
   ]
  },
  {
   "cell_type": "markdown",
   "metadata": {},
   "source": [
    "# creating a $n$-dimensional simplex\n",
    "\n",
    "below is an example of creating a 2 dimensional complex, checking the complex\n",
    "and iterating of the vertex. We can also compute the boundary of the simplex\n",
    "$$ \\partial[v] = \\sum_{n=1}^{i} (-1)^{i}[v_{1}, \\cdots, \\hat{v_{j}}, \\cdots, v_{n}]$$"
   ]
  },
  {
   "cell_type": "code",
   "execution_count": 2,
   "metadata": {},
   "outputs": [
    {
     "name": "stdout",
     "output_type": "stream",
     "text": [
      "Dimension: 3\n",
      "Simplex: <0,1,2,3> 0\n",
      "boundary: <1,2,3> 0\n",
      "subBoundary: <2,3> 0\n",
      "subBoundary: <1,3> 0\n",
      "subBoundary: <1,2> 0\n",
      "boundary: <0,2,3> 1\n",
      "subBoundary: <2,3> 1\n",
      "subBoundary: <0,3> 1\n",
      "subBoundary: <0,2> 1\n",
      "boundary: <0,1,3> 2\n",
      "subBoundary: <1,3> 2\n",
      "subBoundary: <0,3> 2\n",
      "subBoundary: <0,1> 2\n",
      "boundary: <0,1,2> 3\n",
      "subBoundary: <1,2> 3\n",
      "subBoundary: <0,2> 3\n",
      "subBoundary: <0,1> 3\n",
      "vertex: 0\n",
      "vertex: 1\n",
      "vertex: 2\n",
      "vertex: 3\n"
     ]
    }
   ],
   "source": [
    "# A simplex is simply a list vertices. It's represented by the simplex Class:\n",
    "simplex = d.Simplex([0,1,2,3])\n",
    "print(\"Dimension:\", simplex.dimension())\n",
    "print(\"Simplex:\", simplex)\n",
    "index = 0\n",
    "for simplicialBoundary in simplex.boundary():\n",
    "    # set an index of the simplex\n",
    "    simplicialBoundary.data = index\n",
    "    print(\"boundary:\", simplicialBoundary)\n",
    "    for subSimplex in simplicialBoundary.boundary():\n",
    "        subSimplex.data = index\n",
    "        print(\"subBoundary:\", subSimplex)\n",
    "    index +=1\n",
    "for vertex in simplex:\n",
    "    ## iterating over vertex\n",
    "    print(\"vertex:\", vertex)\n",
    "    \n",
    "simplicialComplex = []"
   ]
  },
  {
   "cell_type": "markdown",
   "metadata": {},
   "source": [
    "# closure\n",
    "we can generate all the subSimplicies or $k$-simplicies. For example, an 8-sphere is the 8-dimensional skeleton of the closure of the 9-simplex."
   ]
  },
  {
   "cell_type": "code",
   "execution_count": 3,
   "metadata": {},
   "outputs": [
    {
     "name": "stdout",
     "output_type": "stream",
     "text": [
      "[<0,2> 0, <0,1> 0, <1,2> 0, <0> 0, <1> 0, <2> 0, <0,1,2> 0]\n"
     ]
    }
   ],
   "source": [
    "simplex4 = d.Simplex([0,1,2])\n",
    "sphere1  = d.closure([simplex4], 2)\n",
    "print(sphere1)"
   ]
  },
  {
   "cell_type": "markdown",
   "metadata": {},
   "source": [
    "# filteration\n",
    "A filtration is a nested sequence of simplicial complexes, 𝐾1⊆𝐾2⊆…⊆𝐾𝑛. Without loss of generality, we can assume that two consecutive complexes in the filtration differ by a single simplex, so we can think of a filtration as a sequence of simplices."
   ]
  },
  {
   "cell_type": "code",
   "execution_count": 4,
   "metadata": {
    "scrolled": false
   },
   "outputs": [
    {
     "name": "stdout",
     "output_type": "stream",
     "text": [
      "Dimension: 15\n",
      "Simplex: <0,1,2,3,4,5,6,7,8,9,10,11,12,13,14,15> 0\n",
      "boundary: <1,2,3,4,5,6,7,8,9,10,11,12,13,14,15> 0\n",
      "subBoundary: <2,3,4,5,6,7,8,9,10,11,12,13,14,15> 0\n",
      "subBoundary: <1,3,4,5,6,7,8,9,10,11,12,13,14,15> 0\n",
      "subBoundary: <1,2,4,5,6,7,8,9,10,11,12,13,14,15> 0\n",
      "subBoundary: <1,2,3,5,6,7,8,9,10,11,12,13,14,15> 0\n",
      "subBoundary: <1,2,3,4,6,7,8,9,10,11,12,13,14,15> 0\n",
      "subBoundary: <1,2,3,4,5,7,8,9,10,11,12,13,14,15> 0\n",
      "subBoundary: <1,2,3,4,5,6,8,9,10,11,12,13,14,15> 0\n",
      "subBoundary: <1,2,3,4,5,6,7,9,10,11,12,13,14,15> 0\n",
      "subBoundary: <1,2,3,4,5,6,7,8,10,11,12,13,14,15> 0\n",
      "subBoundary: <1,2,3,4,5,6,7,8,9,11,12,13,14,15> 0\n",
      "subBoundary: <1,2,3,4,5,6,7,8,9,10,12,13,14,15> 0\n",
      "subBoundary: <1,2,3,4,5,6,7,8,9,10,11,13,14,15> 0\n",
      "subBoundary: <1,2,3,4,5,6,7,8,9,10,11,12,14,15> 0\n",
      "subBoundary: <1,2,3,4,5,6,7,8,9,10,11,12,13,15> 0\n",
      "subBoundary: <1,2,3,4,5,6,7,8,9,10,11,12,13,14> 0\n",
      "boundary: <0,2,3,4,5,6,7,8,9,10,11,12,13,14,15> 1\n",
      "subBoundary: <2,3,4,5,6,7,8,9,10,11,12,13,14,15> 1\n",
      "subBoundary: <0,3,4,5,6,7,8,9,10,11,12,13,14,15> 1\n",
      "subBoundary: <0,2,4,5,6,7,8,9,10,11,12,13,14,15> 1\n",
      "subBoundary: <0,2,3,5,6,7,8,9,10,11,12,13,14,15> 1\n",
      "subBoundary: <0,2,3,4,6,7,8,9,10,11,12,13,14,15> 1\n",
      "subBoundary: <0,2,3,4,5,7,8,9,10,11,12,13,14,15> 1\n",
      "subBoundary: <0,2,3,4,5,6,8,9,10,11,12,13,14,15> 1\n",
      "subBoundary: <0,2,3,4,5,6,7,9,10,11,12,13,14,15> 1\n",
      "subBoundary: <0,2,3,4,5,6,7,8,10,11,12,13,14,15> 1\n",
      "subBoundary: <0,2,3,4,5,6,7,8,9,11,12,13,14,15> 1\n",
      "subBoundary: <0,2,3,4,5,6,7,8,9,10,12,13,14,15> 1\n",
      "subBoundary: <0,2,3,4,5,6,7,8,9,10,11,13,14,15> 1\n",
      "subBoundary: <0,2,3,4,5,6,7,8,9,10,11,12,14,15> 1\n",
      "subBoundary: <0,2,3,4,5,6,7,8,9,10,11,12,13,15> 1\n",
      "subBoundary: <0,2,3,4,5,6,7,8,9,10,11,12,13,14> 1\n",
      "boundary: <0,1,3,4,5,6,7,8,9,10,11,12,13,14,15> 2\n",
      "subBoundary: <1,3,4,5,6,7,8,9,10,11,12,13,14,15> 2\n",
      "subBoundary: <0,3,4,5,6,7,8,9,10,11,12,13,14,15> 2\n",
      "subBoundary: <0,1,4,5,6,7,8,9,10,11,12,13,14,15> 2\n",
      "subBoundary: <0,1,3,5,6,7,8,9,10,11,12,13,14,15> 2\n",
      "subBoundary: <0,1,3,4,6,7,8,9,10,11,12,13,14,15> 2\n",
      "subBoundary: <0,1,3,4,5,7,8,9,10,11,12,13,14,15> 2\n",
      "subBoundary: <0,1,3,4,5,6,8,9,10,11,12,13,14,15> 2\n",
      "subBoundary: <0,1,3,4,5,6,7,9,10,11,12,13,14,15> 2\n",
      "subBoundary: <0,1,3,4,5,6,7,8,10,11,12,13,14,15> 2\n",
      "subBoundary: <0,1,3,4,5,6,7,8,9,11,12,13,14,15> 2\n",
      "subBoundary: <0,1,3,4,5,6,7,8,9,10,12,13,14,15> 2\n",
      "subBoundary: <0,1,3,4,5,6,7,8,9,10,11,13,14,15> 2\n",
      "subBoundary: <0,1,3,4,5,6,7,8,9,10,11,12,14,15> 2\n",
      "subBoundary: <0,1,3,4,5,6,7,8,9,10,11,12,13,15> 2\n",
      "subBoundary: <0,1,3,4,5,6,7,8,9,10,11,12,13,14> 2\n",
      "boundary: <0,1,2,4,5,6,7,8,9,10,11,12,13,14,15> 3\n",
      "subBoundary: <1,2,4,5,6,7,8,9,10,11,12,13,14,15> 3\n",
      "subBoundary: <0,2,4,5,6,7,8,9,10,11,12,13,14,15> 3\n",
      "subBoundary: <0,1,4,5,6,7,8,9,10,11,12,13,14,15> 3\n",
      "subBoundary: <0,1,2,5,6,7,8,9,10,11,12,13,14,15> 3\n",
      "subBoundary: <0,1,2,4,6,7,8,9,10,11,12,13,14,15> 3\n",
      "subBoundary: <0,1,2,4,5,7,8,9,10,11,12,13,14,15> 3\n",
      "subBoundary: <0,1,2,4,5,6,8,9,10,11,12,13,14,15> 3\n",
      "subBoundary: <0,1,2,4,5,6,7,9,10,11,12,13,14,15> 3\n",
      "subBoundary: <0,1,2,4,5,6,7,8,10,11,12,13,14,15> 3\n",
      "subBoundary: <0,1,2,4,5,6,7,8,9,11,12,13,14,15> 3\n",
      "subBoundary: <0,1,2,4,5,6,7,8,9,10,12,13,14,15> 3\n",
      "subBoundary: <0,1,2,4,5,6,7,8,9,10,11,13,14,15> 3\n",
      "subBoundary: <0,1,2,4,5,6,7,8,9,10,11,12,14,15> 3\n",
      "subBoundary: <0,1,2,4,5,6,7,8,9,10,11,12,13,15> 3\n",
      "subBoundary: <0,1,2,4,5,6,7,8,9,10,11,12,13,14> 3\n",
      "boundary: <0,1,2,3,5,6,7,8,9,10,11,12,13,14,15> 4\n",
      "subBoundary: <1,2,3,5,6,7,8,9,10,11,12,13,14,15> 4\n",
      "subBoundary: <0,2,3,5,6,7,8,9,10,11,12,13,14,15> 4\n",
      "subBoundary: <0,1,3,5,6,7,8,9,10,11,12,13,14,15> 4\n",
      "subBoundary: <0,1,2,5,6,7,8,9,10,11,12,13,14,15> 4\n",
      "subBoundary: <0,1,2,3,6,7,8,9,10,11,12,13,14,15> 4\n",
      "subBoundary: <0,1,2,3,5,7,8,9,10,11,12,13,14,15> 4\n",
      "subBoundary: <0,1,2,3,5,6,8,9,10,11,12,13,14,15> 4\n",
      "subBoundary: <0,1,2,3,5,6,7,9,10,11,12,13,14,15> 4\n",
      "subBoundary: <0,1,2,3,5,6,7,8,10,11,12,13,14,15> 4\n",
      "subBoundary: <0,1,2,3,5,6,7,8,9,11,12,13,14,15> 4\n",
      "subBoundary: <0,1,2,3,5,6,7,8,9,10,12,13,14,15> 4\n",
      "subBoundary: <0,1,2,3,5,6,7,8,9,10,11,13,14,15> 4\n",
      "subBoundary: <0,1,2,3,5,6,7,8,9,10,11,12,14,15> 4\n",
      "subBoundary: <0,1,2,3,5,6,7,8,9,10,11,12,13,15> 4\n",
      "subBoundary: <0,1,2,3,5,6,7,8,9,10,11,12,13,14> 4\n",
      "boundary: <0,1,2,3,4,6,7,8,9,10,11,12,13,14,15> 5\n",
      "subBoundary: <1,2,3,4,6,7,8,9,10,11,12,13,14,15> 5\n",
      "subBoundary: <0,2,3,4,6,7,8,9,10,11,12,13,14,15> 5\n",
      "subBoundary: <0,1,3,4,6,7,8,9,10,11,12,13,14,15> 5\n",
      "subBoundary: <0,1,2,4,6,7,8,9,10,11,12,13,14,15> 5\n",
      "subBoundary: <0,1,2,3,6,7,8,9,10,11,12,13,14,15> 5\n",
      "subBoundary: <0,1,2,3,4,7,8,9,10,11,12,13,14,15> 5\n",
      "subBoundary: <0,1,2,3,4,6,8,9,10,11,12,13,14,15> 5\n",
      "subBoundary: <0,1,2,3,4,6,7,9,10,11,12,13,14,15> 5\n",
      "subBoundary: <0,1,2,3,4,6,7,8,10,11,12,13,14,15> 5\n",
      "subBoundary: <0,1,2,3,4,6,7,8,9,11,12,13,14,15> 5\n",
      "subBoundary: <0,1,2,3,4,6,7,8,9,10,12,13,14,15> 5\n",
      "subBoundary: <0,1,2,3,4,6,7,8,9,10,11,13,14,15> 5\n",
      "subBoundary: <0,1,2,3,4,6,7,8,9,10,11,12,14,15> 5\n",
      "subBoundary: <0,1,2,3,4,6,7,8,9,10,11,12,13,15> 5\n",
      "subBoundary: <0,1,2,3,4,6,7,8,9,10,11,12,13,14> 5\n",
      "boundary: <0,1,2,3,4,5,7,8,9,10,11,12,13,14,15> 6\n",
      "subBoundary: <1,2,3,4,5,7,8,9,10,11,12,13,14,15> 6\n",
      "subBoundary: <0,2,3,4,5,7,8,9,10,11,12,13,14,15> 6\n",
      "subBoundary: <0,1,3,4,5,7,8,9,10,11,12,13,14,15> 6\n",
      "subBoundary: <0,1,2,4,5,7,8,9,10,11,12,13,14,15> 6\n",
      "subBoundary: <0,1,2,3,5,7,8,9,10,11,12,13,14,15> 6\n",
      "subBoundary: <0,1,2,3,4,7,8,9,10,11,12,13,14,15> 6\n",
      "subBoundary: <0,1,2,3,4,5,8,9,10,11,12,13,14,15> 6\n",
      "subBoundary: <0,1,2,3,4,5,7,9,10,11,12,13,14,15> 6\n",
      "subBoundary: <0,1,2,3,4,5,7,8,10,11,12,13,14,15> 6\n",
      "subBoundary: <0,1,2,3,4,5,7,8,9,11,12,13,14,15> 6\n",
      "subBoundary: <0,1,2,3,4,5,7,8,9,10,12,13,14,15> 6\n",
      "subBoundary: <0,1,2,3,4,5,7,8,9,10,11,13,14,15> 6\n",
      "subBoundary: <0,1,2,3,4,5,7,8,9,10,11,12,14,15> 6\n",
      "subBoundary: <0,1,2,3,4,5,7,8,9,10,11,12,13,15> 6\n",
      "subBoundary: <0,1,2,3,4,5,7,8,9,10,11,12,13,14> 6\n",
      "boundary: <0,1,2,3,4,5,6,8,9,10,11,12,13,14,15> 7\n",
      "subBoundary: <1,2,3,4,5,6,8,9,10,11,12,13,14,15> 7\n",
      "subBoundary: <0,2,3,4,5,6,8,9,10,11,12,13,14,15> 7\n",
      "subBoundary: <0,1,3,4,5,6,8,9,10,11,12,13,14,15> 7\n",
      "subBoundary: <0,1,2,4,5,6,8,9,10,11,12,13,14,15> 7\n",
      "subBoundary: <0,1,2,3,5,6,8,9,10,11,12,13,14,15> 7\n",
      "subBoundary: <0,1,2,3,4,6,8,9,10,11,12,13,14,15> 7\n",
      "subBoundary: <0,1,2,3,4,5,8,9,10,11,12,13,14,15> 7\n",
      "subBoundary: <0,1,2,3,4,5,6,9,10,11,12,13,14,15> 7\n",
      "subBoundary: <0,1,2,3,4,5,6,8,10,11,12,13,14,15> 7\n",
      "subBoundary: <0,1,2,3,4,5,6,8,9,11,12,13,14,15> 7\n",
      "subBoundary: <0,1,2,3,4,5,6,8,9,10,12,13,14,15> 7\n",
      "subBoundary: <0,1,2,3,4,5,6,8,9,10,11,13,14,15> 7\n",
      "subBoundary: <0,1,2,3,4,5,6,8,9,10,11,12,14,15> 7\n",
      "subBoundary: <0,1,2,3,4,5,6,8,9,10,11,12,13,15> 7\n",
      "subBoundary: <0,1,2,3,4,5,6,8,9,10,11,12,13,14> 7\n",
      "boundary: <0,1,2,3,4,5,6,7,9,10,11,12,13,14,15> 8\n",
      "subBoundary: <1,2,3,4,5,6,7,9,10,11,12,13,14,15> 8\n",
      "subBoundary: <0,2,3,4,5,6,7,9,10,11,12,13,14,15> 8\n",
      "subBoundary: <0,1,3,4,5,6,7,9,10,11,12,13,14,15> 8\n",
      "subBoundary: <0,1,2,4,5,6,7,9,10,11,12,13,14,15> 8\n",
      "subBoundary: <0,1,2,3,5,6,7,9,10,11,12,13,14,15> 8\n",
      "subBoundary: <0,1,2,3,4,6,7,9,10,11,12,13,14,15> 8\n",
      "subBoundary: <0,1,2,3,4,5,7,9,10,11,12,13,14,15> 8\n",
      "subBoundary: <0,1,2,3,4,5,6,9,10,11,12,13,14,15> 8\n",
      "subBoundary: <0,1,2,3,4,5,6,7,10,11,12,13,14,15> 8\n",
      "subBoundary: <0,1,2,3,4,5,6,7,9,11,12,13,14,15> 8\n",
      "subBoundary: <0,1,2,3,4,5,6,7,9,10,12,13,14,15> 8\n",
      "subBoundary: <0,1,2,3,4,5,6,7,9,10,11,13,14,15> 8\n",
      "subBoundary: <0,1,2,3,4,5,6,7,9,10,11,12,14,15> 8\n",
      "subBoundary: <0,1,2,3,4,5,6,7,9,10,11,12,13,15> 8\n",
      "subBoundary: <0,1,2,3,4,5,6,7,9,10,11,12,13,14> 8\n",
      "boundary: <0,1,2,3,4,5,6,7,8,10,11,12,13,14,15> 9\n",
      "subBoundary: <1,2,3,4,5,6,7,8,10,11,12,13,14,15> 9\n",
      "subBoundary: <0,2,3,4,5,6,7,8,10,11,12,13,14,15> 9\n",
      "subBoundary: <0,1,3,4,5,6,7,8,10,11,12,13,14,15> 9\n",
      "subBoundary: <0,1,2,4,5,6,7,8,10,11,12,13,14,15> 9\n",
      "subBoundary: <0,1,2,3,5,6,7,8,10,11,12,13,14,15> 9\n",
      "subBoundary: <0,1,2,3,4,6,7,8,10,11,12,13,14,15> 9\n",
      "subBoundary: <0,1,2,3,4,5,7,8,10,11,12,13,14,15> 9\n",
      "subBoundary: <0,1,2,3,4,5,6,8,10,11,12,13,14,15> 9\n",
      "subBoundary: <0,1,2,3,4,5,6,7,10,11,12,13,14,15> 9\n",
      "subBoundary: <0,1,2,3,4,5,6,7,8,11,12,13,14,15> 9\n",
      "subBoundary: <0,1,2,3,4,5,6,7,8,10,12,13,14,15> 9\n",
      "subBoundary: <0,1,2,3,4,5,6,7,8,10,11,13,14,15> 9\n",
      "subBoundary: <0,1,2,3,4,5,6,7,8,10,11,12,14,15> 9\n",
      "subBoundary: <0,1,2,3,4,5,6,7,8,10,11,12,13,15> 9\n",
      "subBoundary: <0,1,2,3,4,5,6,7,8,10,11,12,13,14> 9\n",
      "boundary: <0,1,2,3,4,5,6,7,8,9,11,12,13,14,15> 10\n",
      "subBoundary: <1,2,3,4,5,6,7,8,9,11,12,13,14,15> 10\n",
      "subBoundary: <0,2,3,4,5,6,7,8,9,11,12,13,14,15> 10\n",
      "subBoundary: <0,1,3,4,5,6,7,8,9,11,12,13,14,15> 10\n",
      "subBoundary: <0,1,2,4,5,6,7,8,9,11,12,13,14,15> 10\n",
      "subBoundary: <0,1,2,3,5,6,7,8,9,11,12,13,14,15> 10\n",
      "subBoundary: <0,1,2,3,4,6,7,8,9,11,12,13,14,15> 10\n",
      "subBoundary: <0,1,2,3,4,5,7,8,9,11,12,13,14,15> 10\n",
      "subBoundary: <0,1,2,3,4,5,6,8,9,11,12,13,14,15> 10\n",
      "subBoundary: <0,1,2,3,4,5,6,7,9,11,12,13,14,15> 10\n",
      "subBoundary: <0,1,2,3,4,5,6,7,8,11,12,13,14,15> 10\n",
      "subBoundary: <0,1,2,3,4,5,6,7,8,9,12,13,14,15> 10\n",
      "subBoundary: <0,1,2,3,4,5,6,7,8,9,11,13,14,15> 10\n",
      "subBoundary: <0,1,2,3,4,5,6,7,8,9,11,12,14,15> 10\n",
      "subBoundary: <0,1,2,3,4,5,6,7,8,9,11,12,13,15> 10\n",
      "subBoundary: <0,1,2,3,4,5,6,7,8,9,11,12,13,14> 10\n",
      "boundary: <0,1,2,3,4,5,6,7,8,9,10,12,13,14,15> 11\n",
      "subBoundary: <1,2,3,4,5,6,7,8,9,10,12,13,14,15> 11\n",
      "subBoundary: <0,2,3,4,5,6,7,8,9,10,12,13,14,15> 11\n",
      "subBoundary: <0,1,3,4,5,6,7,8,9,10,12,13,14,15> 11\n",
      "subBoundary: <0,1,2,4,5,6,7,8,9,10,12,13,14,15> 11\n",
      "subBoundary: <0,1,2,3,5,6,7,8,9,10,12,13,14,15> 11\n",
      "subBoundary: <0,1,2,3,4,6,7,8,9,10,12,13,14,15> 11\n",
      "subBoundary: <0,1,2,3,4,5,7,8,9,10,12,13,14,15> 11\n",
      "subBoundary: <0,1,2,3,4,5,6,8,9,10,12,13,14,15> 11\n",
      "subBoundary: <0,1,2,3,4,5,6,7,9,10,12,13,14,15> 11\n",
      "subBoundary: <0,1,2,3,4,5,6,7,8,10,12,13,14,15> 11\n",
      "subBoundary: <0,1,2,3,4,5,6,7,8,9,12,13,14,15> 11\n",
      "subBoundary: <0,1,2,3,4,5,6,7,8,9,10,13,14,15> 11\n",
      "subBoundary: <0,1,2,3,4,5,6,7,8,9,10,12,14,15> 11\n",
      "subBoundary: <0,1,2,3,4,5,6,7,8,9,10,12,13,15> 11\n",
      "subBoundary: <0,1,2,3,4,5,6,7,8,9,10,12,13,14> 11\n",
      "boundary: <0,1,2,3,4,5,6,7,8,9,10,11,13,14,15> 12\n",
      "subBoundary: <1,2,3,4,5,6,7,8,9,10,11,13,14,15> 12\n",
      "subBoundary: <0,2,3,4,5,6,7,8,9,10,11,13,14,15> 12\n",
      "subBoundary: <0,1,3,4,5,6,7,8,9,10,11,13,14,15> 12\n",
      "subBoundary: <0,1,2,4,5,6,7,8,9,10,11,13,14,15> 12\n",
      "subBoundary: <0,1,2,3,5,6,7,8,9,10,11,13,14,15> 12\n",
      "subBoundary: <0,1,2,3,4,6,7,8,9,10,11,13,14,15> 12\n",
      "subBoundary: <0,1,2,3,4,5,7,8,9,10,11,13,14,15> 12\n",
      "subBoundary: <0,1,2,3,4,5,6,8,9,10,11,13,14,15> 12\n",
      "subBoundary: <0,1,2,3,4,5,6,7,9,10,11,13,14,15> 12\n",
      "subBoundary: <0,1,2,3,4,5,6,7,8,10,11,13,14,15> 12\n",
      "subBoundary: <0,1,2,3,4,5,6,7,8,9,11,13,14,15> 12\n",
      "subBoundary: <0,1,2,3,4,5,6,7,8,9,10,13,14,15> 12\n",
      "subBoundary: <0,1,2,3,4,5,6,7,8,9,10,11,14,15> 12\n",
      "subBoundary: <0,1,2,3,4,5,6,7,8,9,10,11,13,15> 12\n",
      "subBoundary: <0,1,2,3,4,5,6,7,8,9,10,11,13,14> 12\n",
      "boundary: <0,1,2,3,4,5,6,7,8,9,10,11,12,14,15> 13\n",
      "subBoundary: <1,2,3,4,5,6,7,8,9,10,11,12,14,15> 13\n",
      "subBoundary: <0,2,3,4,5,6,7,8,9,10,11,12,14,15> 13\n",
      "subBoundary: <0,1,3,4,5,6,7,8,9,10,11,12,14,15> 13\n",
      "subBoundary: <0,1,2,4,5,6,7,8,9,10,11,12,14,15> 13\n",
      "subBoundary: <0,1,2,3,5,6,7,8,9,10,11,12,14,15> 13\n",
      "subBoundary: <0,1,2,3,4,6,7,8,9,10,11,12,14,15> 13\n",
      "subBoundary: <0,1,2,3,4,5,7,8,9,10,11,12,14,15> 13\n",
      "subBoundary: <0,1,2,3,4,5,6,8,9,10,11,12,14,15> 13\n",
      "subBoundary: <0,1,2,3,4,5,6,7,9,10,11,12,14,15> 13\n",
      "subBoundary: <0,1,2,3,4,5,6,7,8,10,11,12,14,15> 13\n",
      "subBoundary: <0,1,2,3,4,5,6,7,8,9,11,12,14,15> 13\n",
      "subBoundary: <0,1,2,3,4,5,6,7,8,9,10,12,14,15> 13\n",
      "subBoundary: <0,1,2,3,4,5,6,7,8,9,10,11,14,15> 13\n",
      "subBoundary: <0,1,2,3,4,5,6,7,8,9,10,11,12,15> 13\n",
      "subBoundary: <0,1,2,3,4,5,6,7,8,9,10,11,12,14> 13\n",
      "boundary: <0,1,2,3,4,5,6,7,8,9,10,11,12,13,15> 14\n",
      "subBoundary: <1,2,3,4,5,6,7,8,9,10,11,12,13,15> 14\n",
      "subBoundary: <0,2,3,4,5,6,7,8,9,10,11,12,13,15> 14\n",
      "subBoundary: <0,1,3,4,5,6,7,8,9,10,11,12,13,15> 14\n",
      "subBoundary: <0,1,2,4,5,6,7,8,9,10,11,12,13,15> 14\n",
      "subBoundary: <0,1,2,3,5,6,7,8,9,10,11,12,13,15> 14\n",
      "subBoundary: <0,1,2,3,4,6,7,8,9,10,11,12,13,15> 14\n",
      "subBoundary: <0,1,2,3,4,5,7,8,9,10,11,12,13,15> 14\n",
      "subBoundary: <0,1,2,3,4,5,6,8,9,10,11,12,13,15> 14\n",
      "subBoundary: <0,1,2,3,4,5,6,7,9,10,11,12,13,15> 14\n",
      "subBoundary: <0,1,2,3,4,5,6,7,8,10,11,12,13,15> 14\n",
      "subBoundary: <0,1,2,3,4,5,6,7,8,9,11,12,13,15> 14\n",
      "subBoundary: <0,1,2,3,4,5,6,7,8,9,10,12,13,15> 14\n",
      "subBoundary: <0,1,2,3,4,5,6,7,8,9,10,11,13,15> 14\n",
      "subBoundary: <0,1,2,3,4,5,6,7,8,9,10,11,12,15> 14\n",
      "subBoundary: <0,1,2,3,4,5,6,7,8,9,10,11,12,13> 14\n",
      "boundary: <0,1,2,3,4,5,6,7,8,9,10,11,12,13,14> 15\n",
      "subBoundary: <1,2,3,4,5,6,7,8,9,10,11,12,13,14> 15\n",
      "subBoundary: <0,2,3,4,5,6,7,8,9,10,11,12,13,14> 15\n",
      "subBoundary: <0,1,3,4,5,6,7,8,9,10,11,12,13,14> 15\n",
      "subBoundary: <0,1,2,4,5,6,7,8,9,10,11,12,13,14> 15\n",
      "subBoundary: <0,1,2,3,5,6,7,8,9,10,11,12,13,14> 15\n",
      "subBoundary: <0,1,2,3,4,6,7,8,9,10,11,12,13,14> 15\n",
      "subBoundary: <0,1,2,3,4,5,7,8,9,10,11,12,13,14> 15\n",
      "subBoundary: <0,1,2,3,4,5,6,8,9,10,11,12,13,14> 15\n",
      "subBoundary: <0,1,2,3,4,5,6,7,9,10,11,12,13,14> 15\n",
      "subBoundary: <0,1,2,3,4,5,6,7,8,10,11,12,13,14> 15\n",
      "subBoundary: <0,1,2,3,4,5,6,7,8,9,11,12,13,14> 15\n",
      "subBoundary: <0,1,2,3,4,5,6,7,8,9,10,12,13,14> 15\n",
      "subBoundary: <0,1,2,3,4,5,6,7,8,9,10,11,13,14> 15\n",
      "subBoundary: <0,1,2,3,4,5,6,7,8,9,10,11,12,14> 15\n",
      "subBoundary: <0,1,2,3,4,5,6,7,8,9,10,11,12,13> 15\n",
      "vertex: 0\n",
      "vertex: 1\n",
      "vertex: 2\n",
      "vertex: 3\n",
      "vertex: 4\n",
      "vertex: 5\n",
      "vertex: 6\n",
      "vertex: 7\n",
      "vertex: 8\n",
      "vertex: 9\n",
      "vertex: 10\n",
      "vertex: 11\n",
      "vertex: 12\n",
      "vertex: 13\n",
      "vertex: 14\n",
      "vertex: 15\n"
     ]
    }
   ],
   "source": [
    "# A simplex is simply a list vertices. It's represented by the simplex Class:\n",
    "simplex = d.Simplex([0,1,2,3,4,5,6,7,8,9,10,11,12,13,14,15])\n",
    "print(\"Dimension:\", simplex.dimension())\n",
    "print(\"Simplex:\", simplex)\n",
    "index = 0\n",
    "for simplicialBoundary in simplex.boundary():\n",
    "    # set an index of the simplex\n",
    "    simplicialBoundary.data = index\n",
    "    print(\"boundary:\", simplicialBoundary)\n",
    "    for subSimplex in simplicialBoundary.boundary():\n",
    "        subSimplex.data = index\n",
    "        print(\"subBoundary:\", subSimplex)\n",
    "    index +=1\n",
    "for vertex in simplex:\n",
    "    ## iterating over vertex\n",
    "    print(\"vertex:\", vertex)\n",
    "    \n",
    "simplicialComplex = []"
   ]
  },
  {
   "cell_type": "code",
   "execution_count": 5,
   "metadata": {
    "scrolled": false
   },
   "outputs": [
    {
     "name": "stdout",
     "output_type": "stream",
     "text": [
      "simplex:  <0> 1\n",
      "simplex:  <1> 2\n",
      "simplex:  <0,1> 3\n",
      "simplex:  <2> 4\n",
      "simplex:  <1,2> 5\n",
      "simplex:  <0,2> 6\n",
      "index of [1,2]:  4\n"
     ]
    }
   ],
   "source": [
    "simplices = [([2], 4), ([1,2], 5), ([0,2], 6),\n",
    "             ([0], 1),   ([1], 2), ([0,1], 3)]\n",
    "\n",
    "filtration = d.Filtration()\n",
    "for vertices, time in simplices:\n",
    "    filtration.append(d.Simplex(vertices, time))\n",
    "filtration.sort()\n",
    "\n",
    "for simplex in filtration:\n",
    "    print(\"simplex: \", simplex)\n",
    "    \n",
    "# look up the index of the gievn simplex (index starts at 0)\n",
    "print(\"index of [1,2]: \", filtration.index(d.Simplex([1,2])))"
   ]
  },
  {
   "cell_type": "markdown",
   "metadata": {},
   "source": [
    "Persistent Homology\n",
    "\n",
    "Applying homology functor to the filtration, we get a sequence of homology groups, connected by linear maps: 𝐻∗(𝐾1)→𝐻∗(𝐾2)→…→𝐻∗(𝐾𝑛)\n",
    ". To compute decomposition of this sequence, i.e., persistence barcode, we use homology_persistence(), which returns its internal representation of the reduced boundary matrix:"
   ]
  },
  {
   "cell_type": "code",
   "execution_count": 6,
   "metadata": {
    "scrolled": true
   },
   "outputs": [
    {
     "name": "stdout",
     "output_type": "stream",
     "text": [
      "index:  0\n",
      "chain:  \n",
      "index:  1\n",
      "chain:  \n",
      "index:  2\n",
      "chain:  1*0 + 1*1\n",
      "index:  3\n",
      "chain:  \n",
      "index:  4\n",
      "chain:  1*1 + 1*3\n",
      "index:  5\n",
      "chain:  \n"
     ]
    }
   ],
   "source": [
    "matrixHomology = d.homology_persistence(filtration)\n",
    "for index, chain in enumerate(matrixHomology):\n",
    "    print('index: ', index)\n",
    "    print('chain: ', chain)"
   ]
  },
  {
   "cell_type": "markdown",
   "metadata": {},
   "source": [
    "We can manually extract the persistence pairing from the reduced matrix:\n",
    "We can also use the init_diagrams() function, by providing it access to the filteraton"
   ]
  },
  {
   "cell_type": "code",
   "execution_count": 7,
   "metadata": {
    "scrolled": false
   },
   "outputs": [
    {
     "name": "stdout",
     "output_type": "stream",
     "text": [
      "dimension, index\n",
      "0 0\n",
      "dimension, index, pair\n",
      "0 1 2\n",
      "dimension, index, pair\n",
      "0 3 4\n",
      "dimension, index\n",
      "1 5\n",
      " \n",
      "********************** next ***********************\n",
      " \n",
      "[Diagram with 3 points, Diagram with 1 points]\n",
      "index, birth, death\n",
      "0 1.0 inf\n",
      "index, birth, death\n",
      "0 2.0 3.0\n",
      "index, birth, death\n",
      "0 4.0 5.0\n",
      "index, birth, death\n",
      "1 6.0 inf\n",
      " \n",
      "H_1:                                                               pt6-->\n",
      "               pt2birth --> pt3death      pt4birth --> pt5death         \n",
      "H_0: pt0 -------------------------------------------------------------->\n"
     ]
    }
   ],
   "source": [
    "for index in range(len(matrixHomology)):\n",
    "    if matrixHomology.pair(index) < index:\n",
    "        continue\n",
    "    dim = filtration[index].dimension()\n",
    "    if matrixHomology.pair(index) != matrixHomology.unpaired:\n",
    "        print(\"dimension, index, pair\")\n",
    "        print(dim, index, matrixHomology.pair(index))\n",
    "    else:\n",
    "        print('dimension, index')\n",
    "        print(dim, index)\n",
    "\n",
    "print(\" \")\n",
    "print(\"********************** next ***********************\")\n",
    "print(\" \")\n",
    "dgms = d.init_diagrams(matrixHomology, filtration)\n",
    "print(dgms)\n",
    "for index, dgm in enumerate(dgms):\n",
    "    for pt in dgm:\n",
    "        print(\"index, birth, death\")\n",
    "        print(index, pt.birth, pt.death)\n",
    "\n",
    "print(\" \")\n",
    "print(\"H_1:                                                               pt6-->\")\n",
    "print(\"               pt2birth --> pt3death      pt4birth --> pt5death         \" )         \n",
    "print(\"H_0: pt0 -------------------------------------------------------------->\")"
   ]
  },
  {
   "cell_type": "code",
   "execution_count": 8,
   "metadata": {},
   "outputs": [
    {
     "data": {
      "image/png": "[encoded data removed]",
      "text/plain": [
       "<IPython.core.display.Image object>"
      ]
     },
     "execution_count": 8,
     "metadata": {
      "image/png": {
       "height": 500,
       "width": 20000
      }
     },
     "output_type": "execute_result"
    }
   ],
   "source": [
    "from IPython.display import Image\n",
    "PATH = \"/Users/krisanaya/repos/tda-gudhi/notebooks/img/\"\n",
    "Image(filename = PATH + \"barcode.png\", width=20000, height=500)"
   ]
  },
  {
   "cell_type": "markdown",
   "metadata": {},
   "source": [
    "\n"
   ]
  },
  {
   "cell_type": "code",
   "execution_count": 9,
   "metadata": {},
   "outputs": [],
   "source": [
    "from itertools import combinations \n",
    "from itertools import chain\n",
    "  \n",
    "def rSubset(arr:list, r:int) -> list: \n",
    "    \"\"\"\n",
    "    :param arr is a python list\n",
    "    :param r is an python int\n",
    "    :return a subSet of the given list\n",
    "    \"\"\"\n",
    "    return list(combinations(arr, r)) \n",
    "  \n",
    "def SimplicialComplex(simplex:list) -> list:\n",
    "    \"\"\"\n",
    "    builds a simplicial complex\n",
    "    :param  list\n",
    "    :return a list of the complex\n",
    "    \n",
    "    \"\"\"\n",
    "    complex = [list(map(list, rSubset(simplex, index + 1))) \n",
    "               for index, _ in enumerate(simplex)]\n",
    "    merge_complex =  list(chain(*complex))\n",
    "    return [d.Simplex(vertices) for vertices in merge_complex]\n",
    "\n",
    "def persistencePairing(complex: list):\n",
    "    \"\"\"\n",
    "    prints pairings of complexies\n",
    "    :param complex \n",
    "    \"\"\"\n",
    "    filteration = d.Filtration(complex)\n",
    "    filteration.sort()\n",
    "    matrixHomology = d.homology_persistence(filtration)\n",
    "    for index in range(len(matrixHomology)):\n",
    "        if matrixHomology.pair(index) < index:\n",
    "            continue\n",
    "        dim = filtration[index].dimension()\n",
    "        if matrixHomology.pair(index) != matrixHomology.unpaired:\n",
    "            print(\" \")\n",
    "            print(f\"******* Index-{index} *******\")\n",
    "            print(\"dimension: \", dim)\n",
    "            print(\"index: \", index)\n",
    "            print(\"pair: \", matrixHomology.pair(index))\n",
    "            print(f\"******* endIndex-{index} *******\")\n",
    "            print(\" \")\n",
    "        else:\n",
    "            print(\" \")\n",
    "            print(f\"******* Index-{index} *******\")\n",
    "            print(\"dimension: \", dim)\n",
    "            print(\"index: \", index)\n",
    "            print(f\"******* endIndex-{index} *******\")\n",
    "            print(\" \")\n",
    "    "
   ]
  },
  {
   "cell_type": "code",
   "execution_count": null,
   "metadata": {
    "scrolled": false
   },
   "outputs": [],
   "source": []
  },
  {
   "cell_type": "code",
   "execution_count": 10,
   "metadata": {
    "scrolled": false
   },
   "outputs": [],
   "source": [
    "# let's create an 8sphere\n",
    "simplex9 = d.Simplex([0,1,2,3,4,5,6,7,8,9])\n",
    "sphere8  = d.closure([simplex9], 8)\n",
    "\n"
   ]
  },
  {
   "cell_type": "markdown",
   "metadata": {},
   "source": [
    "Homology. Dionysus doesn’t compute homology directly, but we can get it as a by-product of persistent homology."
   ]
  },
  {
   "cell_type": "code",
   "execution_count": 11,
   "metadata": {
    "scrolled": false
   },
   "outputs": [],
   "source": [
    "matrixHomology = d.homology_persistence(filtration, method = 'column')"
   ]
  },
  {
   "cell_type": "code",
   "execution_count": 12,
   "metadata": {
    "scrolled": false
   },
   "outputs": [
    {
     "name": "stdout",
     "output_type": "stream",
     "text": [
      "Dimension: 0\n",
      "index, birth, death\n",
      "0 0.0 inf\n",
      "Dimension: 1\n",
      "Dimension: 2\n",
      "Dimension: 3\n",
      "Dimension: 4\n",
      "Dimension: 5\n",
      "Dimension: 6\n",
      "Dimension: 7\n",
      "Dimension: 8\n",
      "index, birth, death\n",
      "8 0.0 inf\n"
     ]
    }
   ],
   "source": [
    "filtration = d.Filtration(sphere8)\n",
    "filtration.sort()\n",
    "matrixHomology = d.homology_persistence(filtration, method='column')\n",
    "dgms = d.init_diagrams(matrixHomology, filtration)\n",
    "for index, dgm in enumerate(dgms):\n",
    "    print(\"Dimension:\", index)\n",
    "    for pt in dgm:\n",
    "        print(\"index, birth, death\")\n",
    "        print(index, pt.birth, pt.death)"
   ]
  },
  {
   "cell_type": "markdown",
   "metadata": {},
   "source": [
    "# ploting dgrms\n"
   ]
  },
  {
   "cell_type": "code",
   "execution_count": 13,
   "metadata": {},
   "outputs": [],
   "source": [
    "points = np.random.random((100, 2))"
   ]
  },
  {
   "cell_type": "code",
   "execution_count": 14,
   "metadata": {},
   "outputs": [
    {
     "data": {
      "text/plain": [
       "array([[6.61995410e-02, 8.07778956e-02],\n",
       "       [6.37495227e-02, 6.49085460e-01],\n",
       "       [3.97744808e-01, 5.78208354e-01],\n",
       "       [8.57781461e-01, 5.69794875e-01],\n",
       "       [1.72066084e-01, 4.03239770e-01],\n",
       "       [6.94062644e-01, 3.70495388e-01],\n",
       "       [2.89412980e-01, 9.45270125e-01],\n",
       "       [6.70631771e-02, 2.37677441e-02],\n",
       "       [9.41744158e-01, 4.26474672e-01],\n",
       "       [3.44345837e-01, 3.17377689e-01],\n",
       "       [7.42739108e-01, 7.02790500e-01],\n",
       "       [1.41209067e-01, 6.57682711e-01],\n",
       "       [4.03391956e-01, 9.14516878e-01],\n",
       "       [2.93939373e-02, 4.90747039e-01],\n",
       "       [8.39170660e-01, 5.97436388e-02],\n",
       "       [7.44347068e-01, 5.66457763e-01],\n",
       "       [9.39493668e-01, 8.63142983e-01],\n",
       "       [3.60597641e-01, 7.34086092e-01],\n",
       "       [4.80038707e-01, 2.91421985e-01],\n",
       "       [1.94317074e-02, 6.26640618e-01],\n",
       "       [3.81504592e-01, 7.50856143e-01],\n",
       "       [3.65932341e-01, 1.92839775e-01],\n",
       "       [4.95843095e-01, 8.00044310e-01],\n",
       "       [1.44878380e-01, 9.33561142e-01],\n",
       "       [6.14223969e-01, 4.61397288e-01],\n",
       "       [8.85302417e-01, 7.21089263e-01],\n",
       "       [5.99845013e-01, 5.86267561e-01],\n",
       "       [2.47864671e-01, 8.53648094e-01],\n",
       "       [4.60298996e-01, 2.60096320e-01],\n",
       "       [1.34312137e-01, 4.97427511e-01],\n",
       "       [8.88741552e-01, 5.56195949e-01],\n",
       "       [6.37278444e-01, 3.45629442e-01],\n",
       "       [3.23930231e-01, 4.35239966e-01],\n",
       "       [1.29485123e-01, 4.62972730e-01],\n",
       "       [7.66478870e-01, 3.70499556e-01],\n",
       "       [7.71473454e-01, 5.73165217e-01],\n",
       "       [2.63446258e-01, 9.11153831e-01],\n",
       "       [7.98782173e-01, 9.23022437e-01],\n",
       "       [2.12628519e-01, 3.66106847e-01],\n",
       "       [7.33050857e-01, 2.91065555e-01],\n",
       "       [6.35268840e-01, 3.30653226e-02],\n",
       "       [5.54079392e-01, 8.37231706e-01],\n",
       "       [5.58916590e-02, 9.74385970e-01],\n",
       "       [9.84202657e-02, 6.49867021e-01],\n",
       "       [2.55565632e-01, 5.90334989e-01],\n",
       "       [8.08304288e-01, 8.75722565e-01],\n",
       "       [4.04189057e-01, 7.22608347e-01],\n",
       "       [8.57430860e-01, 8.57329719e-01],\n",
       "       [7.48209083e-01, 8.75713091e-01],\n",
       "       [5.37933074e-01, 2.91155490e-01],\n",
       "       [9.99651754e-01, 9.20072423e-01],\n",
       "       [2.16211262e-01, 5.47302622e-02],\n",
       "       [6.10141389e-01, 3.40736119e-01],\n",
       "       [3.42532638e-01, 8.92999206e-01],\n",
       "       [1.75924324e-02, 6.30155631e-03],\n",
       "       [9.71302735e-01, 7.44371258e-01],\n",
       "       [7.88375957e-01, 6.95213108e-01],\n",
       "       [4.21005290e-01, 9.85043618e-01],\n",
       "       [6.05856009e-01, 6.52652503e-01],\n",
       "       [3.42592662e-01, 1.37912680e-01],\n",
       "       [1.39802742e-01, 5.30354568e-01],\n",
       "       [5.60050537e-01, 4.62792742e-01],\n",
       "       [4.99197707e-01, 9.58241987e-01],\n",
       "       [7.47424557e-01, 8.25919533e-01],\n",
       "       [7.77409425e-01, 7.51865214e-01],\n",
       "       [2.13536270e-01, 1.66728455e-01],\n",
       "       [3.83025823e-01, 8.40997053e-01],\n",
       "       [6.38456694e-01, 6.30598730e-01],\n",
       "       [2.05099241e-01, 9.73010667e-01],\n",
       "       [9.94982108e-02, 8.45894475e-01],\n",
       "       [8.77190136e-01, 6.77276345e-01],\n",
       "       [7.72996008e-01, 8.36202747e-01],\n",
       "       [8.99371291e-02, 1.72943264e-01],\n",
       "       [6.11361759e-01, 8.97230398e-01],\n",
       "       [2.26556314e-01, 3.75878906e-01],\n",
       "       [7.35711172e-01, 7.85132908e-01],\n",
       "       [4.97831453e-01, 7.95626670e-01],\n",
       "       [8.19863201e-05, 7.52896097e-01],\n",
       "       [2.91918467e-01, 2.40807546e-01],\n",
       "       [4.82891326e-01, 3.96742663e-01],\n",
       "       [3.83565609e-01, 7.27724221e-01],\n",
       "       [8.62034175e-01, 5.19832985e-01],\n",
       "       [9.00552764e-02, 5.50048734e-01],\n",
       "       [7.31867901e-01, 3.90821084e-01],\n",
       "       [9.05922344e-01, 3.25948980e-01],\n",
       "       [3.13744780e-01, 2.27351279e-01],\n",
       "       [1.35808772e-01, 4.31287049e-01],\n",
       "       [7.85645467e-01, 7.56407205e-01],\n",
       "       [6.72266919e-02, 5.08559598e-01],\n",
       "       [7.86638449e-01, 3.67820583e-01],\n",
       "       [2.29544962e-01, 8.57592658e-01],\n",
       "       [6.10657961e-01, 5.08739661e-01],\n",
       "       [1.68411667e-01, 7.00131051e-01],\n",
       "       [9.10819964e-01, 6.71136102e-01],\n",
       "       [9.59668013e-01, 7.20791309e-01],\n",
       "       [8.02531126e-01, 7.84510502e-01],\n",
       "       [5.33342274e-01, 3.78928597e-01],\n",
       "       [5.53650338e-01, 2.98527583e-01],\n",
       "       [8.47217424e-01, 8.54578084e-01],\n",
       "       [6.64710522e-01, 9.68076033e-01]])"
      ]
     },
     "execution_count": 14,
     "metadata": {},
     "output_type": "execute_result"
    }
   ],
   "source": [
    "points"
   ]
  },
  {
   "cell_type": "code",
   "execution_count": 15,
   "metadata": {
    "scrolled": false
   },
   "outputs": [],
   "source": [
    "filteration = d.fill_rips(points, 2, 1.)\n",
    "filteration.sort()\n",
    "matrixHomology = d.homology_persistence(filteration, method='column')\n",
    "dgms = d.init_diagrams(matrixHomology, filteration)\n",
    "# for index, dgm in enumerate(dgms):\n",
    "#     print(\"Dimension:\", index)\n",
    "#     for pt in dgm:\n",
    "#         print(\"index, birth, death\")\n",
    "#         print(index, pt.birth, pt.death)"
   ]
  },
  {
   "cell_type": "code",
   "execution_count": 18,
   "metadata": {},
   "outputs": [
    {
     "data": {
      "text/plain": [
       "Diagram with 17 points"
      ]
     },
     "execution_count": 18,
     "metadata": {},
     "output_type": "execute_result"
    }
   ],
   "source": [
    "dgms[1]"
   ]
  },
  {
   "cell_type": "code",
   "execution_count": 20,
   "metadata": {
    "scrolled": false
   },
   "outputs": [
    {
     "data": {
      "image/png": "[encoded data removed]",
      "text/plain": [
       "<Figure size 432x288 with 1 Axes>"
      ]
     },
     "metadata": {
      "needs_background": "light"
     },
     "output_type": "display_data"
    },
    {
     "data": {
      "image/png": "[encoded data removed]",
      "text/plain": [
       "<Figure size 432x288 with 1 Axes>"
      ]
     },
     "metadata": {
      "needs_background": "light"
     },
     "output_type": "display_data"
    }
   ],
   "source": [
    "d.plot.plot_diagram(dgms[1], show = True)\n",
    "d.plot.plot_bars(dgms[1], show = True)"
   ]
  },
  {
   "cell_type": "code",
   "execution_count": 59,
   "metadata": {
    "scrolled": false
   },
   "outputs": [
    {
     "data": {
      "text/plain": [
       "Diagram with 100 points"
      ]
     },
     "execution_count": 59,
     "metadata": {},
     "output_type": "execute_result"
    }
   ],
   "source": [
    "dgms[0]"
   ]
  },
  {
   "cell_type": "code",
   "execution_count": null,
   "metadata": {},
   "outputs": [],
   "source": []
  },
  {
   "cell_type": "code",
   "execution_count": null,
   "metadata": {},
   "outputs": [],
   "source": []
  }
 ],
 "metadata": {
  "kernelspec": {
   "display_name": "Python 3",
   "language": "python",
   "name": "python3"
  },
  "language_info": {
   "codemirror_mode": {
    "name": "ipython",
    "version": 3
   },
   "file_extension": ".py",
   "mimetype": "text/x-python",
   "name": "python",
   "nbconvert_exporter": "python",
   "pygments_lexer": "ipython3",
   "version": "3.7.4"
  }
 },
 "nbformat": 4,
 "nbformat_minor": 2
}
